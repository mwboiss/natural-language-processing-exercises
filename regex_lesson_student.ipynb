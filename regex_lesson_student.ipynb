{
 "cells": [
  {
   "cell_type": "markdown",
   "metadata": {},
   "source": [
    "# Regex\n",
    "\n",
    "- What is a regular expression?\n",
    "- When are regular expressions useful?"
   ]
  },
  {
   "cell_type": "code",
   "execution_count": 1,
   "metadata": {},
   "outputs": [],
   "source": [
    "import pandas as pd\n",
    "import re"
   ]
  },
  {
   "cell_type": "code",
   "execution_count": 2,
   "metadata": {},
   "outputs": [],
   "source": [
    "log_file_lines = '''\n",
    "76.185.131.226 - - [11/May/2020:14:25:53 +0000] \"GET / HTTP/1.1\" 200 42 \"-\" \"python-requests/2.23.0\"\n",
    "76.185.131.226 - - [11/May/2020:16:25:46 +0000] \"GET / HTTP/1.1\" 200 42 \"-\" \"python-requests/2.23.0\"\n",
    "76.185.131.226 - - [11/May/2020:16:25:58 +0000] \"GET / HTTP/1.1\" 200 42 \"-\" \"Mozilla/5.0 (Macintosh; Intel Mac OS X 10_12_6) AppleWebKit/537.36 (KHTML, like Gecko) Chrome/81.0.4044.129 Safari/537.36\"\n",
    "76.185.131.226 - - [11/May/2020:16:25:58 +0000] \"GET /favicon.ico HTTP/1.1\" 200 162 \"https://python.zach.lol/\" \"Mozilla/5.0 (Macintosh; Intel Mac OS X 10_12_6) AppleWebKit/537.36 (KHTML, like Gecko) Chrome/81.0.4044.129 Safari/537.36\"\n",
    "104.5.217.57 - - [11/May/2020:16:26:27 +0000] \"GET / HTTP/1.1\" 200 42 \"-\" \"python-requests/2.23.0\"\n",
    "76.185.131.226 - - [11/May/2020:16:26:46 +0000] \"GET /documentation HTTP/1.1\" 200 348 \"-\" \"python-requests/2.23.0\"\n",
    "76.185.131.226 - - [11/May/2020:16:26:54 +0000] \"GET /documentation HTTP/1.1\" 200 348 \"-\" \"python-requests/2.23.0\"\n",
    "104.5.217.57 - - [11/May/2020:16:27:04 +0000] \"GET /documentation HTTP/1.1\" 200 348 \"-\" \"python-requests/2.23.0\"\n",
    "76.185.131.226 - - [11/May/2020:16:27:05 +0000] \"GET /documentation HTTP/1.1\" 200 348 \"-\" \"python-requests/2.23.0\"\n",
    "76.185.131.226 - - [11/May/2020:16:27:10 +0000] \"GET /documentation HTTP/1.1\" 200 348 \"-\" \"python-requests/2.23.0\"\n",
    "'''"
   ]
  },
  {
   "cell_type": "code",
   "execution_count": 3,
   "metadata": {},
   "outputs": [],
   "source": [
    "import re # part of the python stdlib"
   ]
  },
  {
   "cell_type": "markdown",
   "metadata": {},
   "source": [
    "- search: shows a single match for a regex\n",
    "- findall: shows *all* the matches for a regex in a subject"
   ]
  },
  {
   "cell_type": "markdown",
   "metadata": {},
   "source": [
    "### Literals"
   ]
  },
  {
   "cell_type": "code",
   "execution_count": 4,
   "metadata": {},
   "outputs": [
    {
     "data": {
      "text/plain": [
       "<re.Match object; span=(0, 1), match='a'>"
      ]
     },
     "execution_count": 4,
     "metadata": {},
     "output_type": "execute_result"
    }
   ],
   "source": [
    "regexp = r'a'\n",
    "subject = 'abc'\n",
    "\n",
    "re.search(regexp, subject)"
   ]
  },
  {
   "cell_type": "markdown",
   "metadata": {},
   "source": [
    "<div style=\"background-color: rgba(0, 100, 200, .1); padding: 1em 3em; border-radius: 5px; border: 1px solid black\">\n",
    "    <div style=\"font-weight: bold; font-size: 1.2em; border-bottom: 1px dashed black; padding-bottom: .5em;\">\n",
    "        Mini Exercise\n",
    "    </div>\n",
    "    <ol>\n",
    "        <li>Change your regular expression to match the literal character \"b\". What do you notice?</li>\n",
    "        <li>Change your regular expression to match the literal string \"ab\". What do you notice?</li>\n",
    "        <li>Change your regular expression to match the literal \"d\". What do you notice?</li>\n",
    "        <li>Use <code>re.findall</code> instead of <code>re.search</code>. How do the results differ?</li>\n",
    "        <li>Change your regular expression to just the \".\" character. What are the results?</li>\n",
    "    </ol>\n",
    "</div>"
   ]
  },
  {
   "cell_type": "code",
   "execution_count": 7,
   "metadata": {},
   "outputs": [
    {
     "data": {
      "text/plain": [
       "<re.Match object; span=(1, 2), match='b'>"
      ]
     },
     "execution_count": 7,
     "metadata": {},
     "output_type": "execute_result"
    }
   ],
   "source": [
    "## 1)\n",
    "regexp = r'b'\n",
    "subject = 'abc'\n",
    "\n",
    "re.search(regexp, subject)\n",
    "\n",
    "## the span changed to show where b is located"
   ]
  },
  {
   "cell_type": "code",
   "execution_count": 9,
   "metadata": {},
   "outputs": [
    {
     "data": {
      "text/plain": [
       "<re.Match object; span=(0, 2), match='ab'>"
      ]
     },
     "execution_count": 9,
     "metadata": {},
     "output_type": "execute_result"
    }
   ],
   "source": [
    "## 2) \n",
    "regexp = r'ab'\n",
    "subject = 'abc'\n",
    "\n",
    "re.search(regexp, subject)\n",
    "\n",
    "## again span changes"
   ]
  },
  {
   "cell_type": "code",
   "execution_count": 79,
   "metadata": {},
   "outputs": [],
   "source": [
    "## 3)\n",
    "regexp = r'd'\n",
    "subject = 'abc'\n",
    "\n",
    "re.search(regexp, subject)\n",
    "\n",
    "## returns none"
   ]
  },
  {
   "cell_type": "code",
   "execution_count": 80,
   "metadata": {},
   "outputs": [
    {
     "data": {
      "text/plain": [
       "['a']"
      ]
     },
     "execution_count": 80,
     "metadata": {},
     "output_type": "execute_result"
    }
   ],
   "source": [
    "## 4)\n",
    "regexp = r'a'\n",
    "subject = 'abc'\n",
    "\n",
    "re.findall(regexp, subject)\n",
    "\n",
    "## Shows characters"
   ]
  },
  {
   "cell_type": "code",
   "execution_count": 16,
   "metadata": {},
   "outputs": [
    {
     "data": {
      "text/plain": [
       "<re.Match object; span=(0, 1), match='a'>"
      ]
     },
     "execution_count": 16,
     "metadata": {},
     "output_type": "execute_result"
    }
   ],
   "source": [
    "## 5)\n",
    "regexp = r'.'\n",
    "subject = 'abc'\n",
    "\n",
    "re.search(regexp, subject)\n",
    "\n",
    "## Shows first instance of anything"
   ]
  },
  {
   "cell_type": "markdown",
   "metadata": {},
   "source": [
    "### Metacharacters\n",
    "\n",
    "- `.`\n",
    "- `\\w` any letter or number, \\W anything that is not a letter or number\n",
    "- `\\s`\n",
    "- `\\d`\n",
    "- Captial variants"
   ]
  },
  {
   "cell_type": "code",
   "execution_count": null,
   "metadata": {},
   "outputs": [],
   "source": [
    "regexp = r'\\w'\n",
    "subject = 'abc 123'\n",
    "\n",
    "re.search(regexp, subject)"
   ]
  },
  {
   "cell_type": "markdown",
   "metadata": {},
   "source": [
    "<div style=\"background-color: rgba(0, 100, 200, .1); padding: 1em 3em; border-radius: 5px; border: 1px solid black\">\n",
    "    <div style=\"font-weight: bold; font-size: 1.2em; border-bottom: 1px dashed black; padding-bottom: .5em;\">\n",
    "        Mini Exercise\n",
    "    </div>\n",
    "    <p>Continue to use the same subject variable from above.</p>\n",
    "    <ol>\n",
    "        <li>Use all of the above metacharacters with <code>re.findall</code>. What do you notice?</li>\n",
    "        <li>What does the regular expression <code>\\w\\w</code> match?</li>\n",
    "        <li>Use only metacharacters to write a regular expression to match \"c 1\".</li>\n",
    "        <li>Use a combination of metacharacters to match 3 digits in a row.</li>\n",
    "    </ol>\n",
    "</div>"
   ]
  },
  {
   "cell_type": "code",
   "execution_count": 20,
   "metadata": {},
   "outputs": [
    {
     "data": {
      "text/plain": [
       "[]"
      ]
     },
     "execution_count": 20,
     "metadata": {},
     "output_type": "execute_result"
    }
   ],
   "source": [
    "## 1)\n",
    "regexp = r'\\d'\n",
    "subject = 'abc 123'\n",
    "\n",
    "re.findall(regexp, subject)\n",
    "\n",
    "# . gives all characters\n",
    "# \\w gives all characters\n",
    "# \\s gives none of the characters\n",
    "# \\d gives none of the characters"
   ]
  },
  {
   "cell_type": "code",
   "execution_count": 21,
   "metadata": {},
   "outputs": [
    {
     "data": {
      "text/plain": [
       "<re.Match object; span=(0, 2), match='ab'>"
      ]
     },
     "execution_count": 21,
     "metadata": {},
     "output_type": "execute_result"
    }
   ],
   "source": [
    "## 2)\n",
    "regexp = r'\\w\\w'\n",
    "subject = 'abc 123'\n",
    "\n",
    "re.search(regexp, subject)\n",
    "\n",
    "# the first two characters"
   ]
  },
  {
   "cell_type": "code",
   "execution_count": 22,
   "metadata": {},
   "outputs": [
    {
     "data": {
      "text/plain": [
       "<re.Match object; span=(2, 5), match='c 1'>"
      ]
     },
     "execution_count": 22,
     "metadata": {},
     "output_type": "execute_result"
    }
   ],
   "source": [
    "## 3)\n",
    "regexp = r'\\w\\s\\d'\n",
    "subject = 'abc 123'\n",
    "\n",
    "re.search(regexp, subject)"
   ]
  },
  {
   "cell_type": "code",
   "execution_count": 23,
   "metadata": {},
   "outputs": [
    {
     "data": {
      "text/plain": [
       "<re.Match object; span=(4, 7), match='123'>"
      ]
     },
     "execution_count": 23,
     "metadata": {},
     "output_type": "execute_result"
    }
   ],
   "source": [
    "## 4)\n",
    "regexp = r'\\d\\d\\d'\n",
    "subject = 'abc 123'\n",
    "\n",
    "re.search(regexp, subject)"
   ]
  },
  {
   "cell_type": "markdown",
   "metadata": {},
   "source": [
    "### Repeating\n",
    "\n",
    "- `{}` custom number\n",
    "- `*` zero or more\n",
    "- `+` one or more\n",
    "- `?` optional\n",
    "- greedy + non-greedy"
   ]
  },
  {
   "cell_type": "code",
   "execution_count": 36,
   "metadata": {},
   "outputs": [
    {
     "data": {
      "text/plain": [
       "<re.Match object; span=(0, 3), match='abc'>"
      ]
     },
     "execution_count": 36,
     "metadata": {},
     "output_type": "execute_result"
    }
   ],
   "source": [
    "regexp = r'\\w+'\n",
    "subject = 'abc 123'\n",
    "\n",
    "re.search(regexp, subject)"
   ]
  },
  {
   "cell_type": "markdown",
   "metadata": {},
   "source": [
    "<div style=\"background-color: rgba(0, 100, 200, .1); padding: 1em 3em; border-radius: 5px; border: 1px solid black\">\n",
    "    <div style=\"font-weight: bold; font-size: 1.2em; border-bottom: 1px dashed black; padding-bottom: .5em;\">\n",
    "        Mini Exercise\n",
    "    </div>\n",
    "    <p>Use the string below as your subject for this exercise.</p>\n",
    "    <pre><code>Codeup, founded in 2014, is located at 600 Navarro St. Suite 350, San Antonio, TX 78230. You can find us online at http://codeup.com and our alumni portal is located at https://alumni.codeup.com.</code></pre>\n",
    "    <ol>\n",
    "        <li>Write a regular expression that matches all the numbers.</li>\n",
    "        <li>Write a regular expression that matches a 5 digit number, but not a number with fewer digits.</li>\n",
    "        <li>Write a regular expression that matches `http://` or `https://`.</li>\n",
    "        <li>Write a regular expression that matches all of the words.</li>\n",
    "    </ol>\n",
    "</div>"
   ]
  },
  {
   "cell_type": "code",
   "execution_count": 65,
   "metadata": {},
   "outputs": [
    {
     "data": {
      "text/plain": [
       "['2014', '600', '350', '78230']"
      ]
     },
     "execution_count": 65,
     "metadata": {},
     "output_type": "execute_result"
    }
   ],
   "source": [
    "## 1)\n",
    "\n",
    "regexp = r'\\d+'\n",
    "subject = 'Codeup, founded in 2014, is located at 600 Navarro St. Suite 350, San Antonio, TX 78230. You can find us online at http://codeup.com and our alumni portal is located at https://alumni.codeup.com.'\n",
    "\n",
    "re.findall(regexp, subject)"
   ]
  },
  {
   "cell_type": "code",
   "execution_count": 66,
   "metadata": {},
   "outputs": [
    {
     "data": {
      "text/plain": [
       "['78230']"
      ]
     },
     "execution_count": 66,
     "metadata": {},
     "output_type": "execute_result"
    }
   ],
   "source": [
    "## 2)\n",
    "\n",
    "regexp = r'\\d{5}'\n",
    "subject = 'Codeup, founded in 2014, is located at 600 Navarro St. Suite 350, San Antonio, TX 78230. You can find us online at http://codeup.com and our alumni portal is located at https://alumni.codeup.com.'\n",
    "\n",
    "re.findall(regexp, subject)\n",
    "\n"
   ]
  },
  {
   "cell_type": "code",
   "execution_count": 68,
   "metadata": {},
   "outputs": [
    {
     "data": {
      "text/plain": [
       "['http://', 'https://']"
      ]
     },
     "execution_count": 68,
     "metadata": {},
     "output_type": "execute_result"
    }
   ],
   "source": [
    "## 3)\n",
    "\n",
    "regexp = r'https?://'\n",
    "subject = 'Codeup, founded in 2014, is located at 600 Navarro St. Suite 350, San Antonio, TX 78230. You can find us online at http://codeup.com and our alumni portal is located at https://alumni.codeup.com.'\n",
    "\n",
    "re.findall(regexp, subject)"
   ]
  },
  {
   "cell_type": "code",
   "execution_count": 71,
   "metadata": {},
   "outputs": [
    {
     "data": {
      "text/plain": [
       "['Codeup',\n",
       " 'founded',\n",
       " 'in',\n",
       " 'is',\n",
       " 'located',\n",
       " 'at',\n",
       " 'Navarro',\n",
       " 'St',\n",
       " 'Suite',\n",
       " 'San',\n",
       " 'Antonio',\n",
       " 'TX',\n",
       " 'You',\n",
       " 'can',\n",
       " 'find',\n",
       " 'us',\n",
       " 'online',\n",
       " 'at',\n",
       " 'http',\n",
       " 'codeup',\n",
       " 'com',\n",
       " 'and',\n",
       " 'our',\n",
       " 'alumni',\n",
       " 'portal',\n",
       " 'is',\n",
       " 'located',\n",
       " 'at',\n",
       " 'https',\n",
       " 'alumni',\n",
       " 'codeup',\n",
       " 'com']"
      ]
     },
     "execution_count": 71,
     "metadata": {},
     "output_type": "execute_result"
    }
   ],
   "source": [
    "## 4)\n",
    "\n",
    "regexp = r'[a-zA-Z]+'\n",
    "subject = 'Codeup, founded in 2014, is located at 600 Navarro St. Suite 350, San Antonio, TX 78230. You can find us online at http://codeup.com and our alumni portal is located at https://alumni.codeup.com.'\n",
    "\n",
    "re.findall(regexp, subject)"
   ]
  },
  {
   "cell_type": "markdown",
   "metadata": {},
   "source": [
    "### Any/None Of"
   ]
  },
  {
   "cell_type": "code",
   "execution_count": 72,
   "metadata": {},
   "outputs": [
    {
     "data": {
      "text/plain": [
       "<re.Match object; span=(0, 3), match='abc'>"
      ]
     },
     "execution_count": 72,
     "metadata": {},
     "output_type": "execute_result"
    }
   ],
   "source": [
    "regexp = r'[a1][b2][c3]'\n",
    "subject = 'abc 123'\n",
    "\n",
    "re.match(regexp, subject)"
   ]
  },
  {
   "cell_type": "code",
   "execution_count": 73,
   "metadata": {},
   "outputs": [
    {
     "data": {
      "text/plain": [
       "<re.Match object; span=(0, 3), match='123'>"
      ]
     },
     "execution_count": 73,
     "metadata": {},
     "output_type": "execute_result"
    }
   ],
   "source": [
    "subject = '123abc'\n",
    "\n",
    "re.match(regexp, subject)"
   ]
  },
  {
   "cell_type": "markdown",
   "metadata": {},
   "source": [
    "<div style=\"background-color: rgba(0, 100, 200, .1); padding: 1em 3em; border-radius: 5px; border: 1px solid black\">\n",
    "    <div style=\"font-weight: bold; font-size: 1.2em; border-bottom: 1px dashed black; padding-bottom: .5em;\">\n",
    "        Mini Exercise\n",
    "    </div>\n",
    "    <p>For this exercise you should make up various subjects and test them with your regular expressions.</p>\n",
    "    <ol>\n",
    "        <li>Write a regular expression that matches even numbers.</li>\n",
    "        <li>Write a regular expression that matches 2 or more odd numbers in a row.</li>\n",
    "        <li>Write a regular expression that any word with a vowel in it.</li>\n",
    "    </ol>\n",
    "</div>"
   ]
  },
  {
   "cell_type": "code",
   "execution_count": 105,
   "metadata": {},
   "outputs": [
    {
     "data": {
      "text/plain": [
       "['2', '4', '6', '8']"
      ]
     },
     "execution_count": 105,
     "metadata": {},
     "output_type": "execute_result"
    }
   ],
   "source": [
    "## 1)\n",
    "\n",
    "subject = '1 a 2 b 3 c 4 d 5 e 6 f 7 g 8 h 9 '\n",
    "\n",
    "regexp = r'\\d*[02468]'\n",
    "\n",
    "re.findall(regexp, subject)"
   ]
  },
  {
   "cell_type": "code",
   "execution_count": 118,
   "metadata": {},
   "outputs": [
    {
     "data": {
      "text/plain": [
       "<re.Match object; span=(0, 2), match='11'>"
      ]
     },
     "execution_count": 118,
     "metadata": {},
     "output_type": "execute_result"
    }
   ],
   "source": [
    "## 2) ## Needs work\n",
    "\n",
    "subject = '11 12 13 14 157'\n",
    "\n",
    "regexp = r'\\d*[13579{2,}]'\n",
    "\n",
    "re.match(regexp, subject)"
   ]
  },
  {
   "cell_type": "code",
   "execution_count": null,
   "metadata": {},
   "outputs": [],
   "source": [
    "## 3)\n",
    "\n",
    "subject = vowel\n",
    "\n",
    "regexp = r''\n",
    "\n",
    "re.findall(regexp, subject)"
   ]
  },
  {
   "cell_type": "markdown",
   "metadata": {},
   "source": [
    "### Anchors\n",
    "\n",
    "- `^`\n",
    "- `$`"
   ]
  },
  {
   "cell_type": "code",
   "execution_count": null,
   "metadata": {},
   "outputs": [],
   "source": [
    "regexp = r'b'\n",
    "subject = 'abc 123'\n",
    "\n",
    "re.search(regexp, subject)"
   ]
  },
  {
   "cell_type": "markdown",
   "metadata": {},
   "source": [
    "<div style=\"background-color: rgba(0, 100, 200, .1); padding: 1em 3em; border-radius: 5px; border: 1px solid black\">\n",
    "    <div style=\"font-weight: bold; font-size: 1.2em; border-bottom: 1px dashed black; padding-bottom: .5em;\">\n",
    "        Mini Exercise\n",
    "    </div>\n",
    "    <p>For this exercise you should make up various subjects and test them with your regular expressions.</p>\n",
    "    <ol>\n",
    "        <li>Write a regular expression that matches if a word starts with a vowel.</li>\n",
    "        <li>Write a regular expression that matches if a word starts with a capital letter.</li>\n",
    "        <li>Write a regular expression that matches if a word ends with a capital letter.</li>        \n",
    "        <li>Write a regular expression that matches if a word starts <b>and</b> ends with a capital letter.</li>\n",
    "    </ol>\n",
    "</div>"
   ]
  },
  {
   "cell_type": "markdown",
   "metadata": {},
   "source": [
    "### Capture Groups"
   ]
  },
  {
   "cell_type": "code",
   "execution_count": null,
   "metadata": {},
   "outputs": [],
   "source": [
    "regexp = '.*?(\\d+)'\n",
    "s = pd.Series(['abc', 'abc123', '123'])\n",
    "s.str.extract(regexp)"
   ]
  },
  {
   "cell_type": "markdown",
   "metadata": {},
   "source": [
    "## `re.sub`\n",
    "\n",
    "- removing\n",
    "- substitution"
   ]
  },
  {
   "cell_type": "code",
   "execution_count": null,
   "metadata": {},
   "outputs": [],
   "source": [
    "regexp = r'\\d+'\n",
    "subject = 'abc123'\n",
    "\n",
    "re.sub(regexp, '', subject)"
   ]
  },
  {
   "cell_type": "markdown",
   "metadata": {},
   "source": [
    "<div style=\"background-color: rgba(0, 100, 200, .1); padding: 1em 3em; border-radius: 5px; border: 1px solid black\">\n",
    "    <div style=\"font-weight: bold; font-size: 1.2em; border-bottom: 1px dashed black; padding-bottom: .5em;\">\n",
    "        Mini Exercise\n",
    "    </div>\n",
    "    <p>Use the code below to get started on this exercise.</p>\n",
    "    <pre><code>dates = pd.Series(['2020-11-12', '2020-07-13', '2021-01-12'])</code></pre>\n",
    "    <p>Use regular expression substitution to reformat the dates in the format common in the US: m/d/y.</p>\n",
    "</div>"
   ]
  },
  {
   "cell_type": "markdown",
   "metadata": {},
   "source": [
    "## Misc"
   ]
  },
  {
   "cell_type": "markdown",
   "metadata": {},
   "source": [
    "### Pandas Usage\n",
    "\n",
    "- `.str`\n",
    "    - `.extract`\n",
    "    - `.count`\n",
    "    - `.contains`\n",
    "    - `.replace`\n",
    "- extract + concat\n",
    "- named groups"
   ]
  },
  {
   "cell_type": "code",
   "execution_count": null,
   "metadata": {},
   "outputs": [],
   "source": [
    "df = pd.DataFrame()\n",
    "df['text'] = pd.Series([\n",
    "    'You should go check out https://regex101.com, it is a great website!',\n",
    "    'My favorite search engine is https://duckduckgo.com',\n",
    "    'If you have a question, you can get it answered through http://askjeeves.com, it is great!',\n",
    "])\n",
    "df"
   ]
  },
  {
   "cell_type": "code",
   "execution_count": null,
   "metadata": {},
   "outputs": [],
   "source": [
    "df.text.str.extract(r'(https?)://(\\w+)\\.(\\w+)')"
   ]
  },
  {
   "cell_type": "markdown",
   "metadata": {},
   "source": [
    "### Interactive Regex Tool\n",
    "\n",
    "To install the `hlre` tool:\n",
    "\n",
    "```\n",
    "python -m pip install hlre\n",
    "```\n",
    "\n",
    "[For more documentation and the source](https://github.com/zgulde/hlre)\n",
    "\n",
    "See also [regex101](https://regex101.com) (make sure to select the Python flavor)"
   ]
  },
  {
   "cell_type": "markdown",
   "metadata": {},
   "source": [
    "### Named capture groups"
   ]
  },
  {
   "cell_type": "code",
   "execution_count": null,
   "metadata": {},
   "outputs": [],
   "source": [
    "text = 'You should go check out https://regex101.com, it is a great website!'\n",
    "\n",
    "match = re.search(r'(?P<protocol>https?)://(?P<base_domain>\\w+)\\.(?P<tld>\\w+)', text)\n",
    "match.groupdict()"
   ]
  },
  {
   "cell_type": "code",
   "execution_count": null,
   "metadata": {},
   "outputs": [],
   "source": [
    "df.text.str.extract(r'(?P<protocol>https?)://(?P<base_domain>\\w+)\\.(?P<tld>\\w+)')"
   ]
  },
  {
   "cell_type": "markdown",
   "metadata": {},
   "source": [
    "### Verbose regular expressions"
   ]
  },
  {
   "cell_type": "markdown",
   "metadata": {},
   "source": [
    "- `re.VERBOSE`\n",
    "- `(?# this is a comment)`"
   ]
  },
  {
   "cell_type": "code",
   "execution_count": null,
   "metadata": {},
   "outputs": [],
   "source": [
    "text = 'You should go check out https://regex101.com, it is a great website!'\n",
    "\n",
    "regexp = r'''\n",
    "(?P<protocol>https?)\n",
    ":// (?# ignore the :// that seperates protocol from domain)\n",
    "(?P<base_domain>\\w+)\n",
    "\\.\n",
    "(?P<tld>\\w+)\n",
    "'''\n",
    "match = re.search(regexp, text, re.VERBOSE) # whitespace in the regex is ignored\n",
    "match.groupdict()"
   ]
  }
 ],
 "metadata": {
  "kernelspec": {
   "display_name": "Python 3 (ipykernel)",
   "language": "python",
   "name": "python3"
  },
  "language_info": {
   "codemirror_mode": {
    "name": "ipython",
    "version": 3
   },
   "file_extension": ".py",
   "mimetype": "text/x-python",
   "name": "python",
   "nbconvert_exporter": "python",
   "pygments_lexer": "ipython3",
   "version": "3.9.7"
  }
 },
 "nbformat": 4,
 "nbformat_minor": 4
}
