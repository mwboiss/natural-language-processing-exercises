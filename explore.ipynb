{
 "cells": [
  {
   "cell_type": "markdown",
   "id": "4e281262-fd47-4242-899b-e7fbb17e998d",
   "metadata": {},
   "source": [
    "# Data Exploration Exercises"
   ]
  },
  {
   "cell_type": "code",
   "execution_count": null,
   "id": "d333262f-3fde-4ebb-8795-2378ca47ffc7",
   "metadata": {},
   "outputs": [],
   "source": []
  },
  {
   "cell_type": "markdown",
   "id": "1848f4e2-13c4-4f9e-82d0-38c845ffd4b3",
   "metadata": {},
   "source": [
    "## 1) Spam Data"
   ]
  },
  {
   "cell_type": "markdown",
   "id": "5fa99c6d-655f-4004-ba58-eb1fce83c1f8",
   "metadata": {},
   "source": [
    "Load the spam data set."
   ]
  },
  {
   "cell_type": "code",
   "execution_count": null,
   "id": "cca3a361-c73a-4d88-943b-9d4313c3cb31",
   "metadata": {},
   "outputs": [],
   "source": []
  },
  {
   "cell_type": "markdown",
   "id": "78ec3a53-7e9a-4de3-9b6a-1aa289e25792",
   "metadata": {},
   "source": [
    "Create and explore bigrams for the spam data. Visualize them with a word cloud. How do they compare with the ham bigrams?"
   ]
  },
  {
   "cell_type": "code",
   "execution_count": null,
   "id": "87b769ae-9fed-4f69-8297-ea88aca070d0",
   "metadata": {},
   "outputs": [],
   "source": []
  },
  {
   "cell_type": "markdown",
   "id": "872719ce-a238-44d4-bb0f-fb81fde9d610",
   "metadata": {},
   "source": [
    "Is there any overlap in the bigrams for the spam data and the ham data?"
   ]
  },
  {
   "cell_type": "code",
   "execution_count": null,
   "id": "d346b517-b1d5-492e-b174-c1c9bfce75ab",
   "metadata": {},
   "outputs": [],
   "source": []
  },
  {
   "cell_type": "markdown",
   "id": "2eadb80d-f1bf-462b-8935-b2c72716bfa0",
   "metadata": {},
   "source": [
    "Create and explore with trigrams (i.e. a n-gram with an n of 3) for both the spam and ham data."
   ]
  },
  {
   "cell_type": "code",
   "execution_count": null,
   "id": "ab12e41a-6979-4593-b4a4-e9fe626b98f6",
   "metadata": {},
   "outputs": [],
   "source": []
  },
  {
   "cell_type": "markdown",
   "id": "adb21f33-6120-4d08-9e56-bf2a5c09d944",
   "metadata": {},
   "source": [
    "## 2) Explore the blog articles using the techniques discussed in the exploration lesson."
   ]
  },
  {
   "cell_type": "code",
   "execution_count": null,
   "id": "5f8931b4-bc87-4170-9223-949a6952c658",
   "metadata": {},
   "outputs": [],
   "source": []
  },
  {
   "cell_type": "markdown",
   "id": "4c3898fe-125a-4d56-b4e1-ac103abe0ec5",
   "metadata": {},
   "source": [
    "## 3) Explore the news articles using the techniques discussed in the exploration lesson. Use the category variable when exploring."
   ]
  },
  {
   "cell_type": "code",
   "execution_count": null,
   "id": "97681083-5d4a-457e-ad2d-76799e6d3ef4",
   "metadata": {},
   "outputs": [],
   "source": []
  }
 ],
 "metadata": {
  "kernelspec": {
   "display_name": "Python 3 (ipykernel)",
   "language": "python",
   "name": "python3"
  },
  "language_info": {
   "codemirror_mode": {
    "name": "ipython",
    "version": 3
   },
   "file_extension": ".py",
   "mimetype": "text/x-python",
   "name": "python",
   "nbconvert_exporter": "python",
   "pygments_lexer": "ipython3",
   "version": "3.9.7"
  }
 },
 "nbformat": 4,
 "nbformat_minor": 5
}
