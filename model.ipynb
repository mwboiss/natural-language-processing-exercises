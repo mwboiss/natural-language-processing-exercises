{
 "cells": [
  {
   "cell_type": "markdown",
   "id": "b22cb846-b8b4-42c4-9ff0-32efe226dc5e",
   "metadata": {},
   "source": [
    "# Modeling Exercises"
   ]
  },
  {
   "cell_type": "code",
   "execution_count": null,
   "id": "4f60378b-b94e-457c-a164-21af3ed028f6",
   "metadata": {},
   "outputs": [],
   "source": []
  },
  {
   "cell_type": "markdown",
   "id": "44a0f335-ea80-4199-b7cd-6988d4ec7aa0",
   "metadata": {},
   "source": [
    "## Take the work we did in the lessons further:"
   ]
  },
  {
   "cell_type": "code",
   "execution_count": null,
   "id": "ba3ffaf1-25c9-41f3-a696-1f878a2b3546",
   "metadata": {},
   "outputs": [],
   "source": []
  },
  {
   "cell_type": "markdown",
   "id": "77e50b03-32d6-44c3-9a9c-55ad62352f7a",
   "metadata": {},
   "source": [
    "## What other types of models (i.e. different classifcation algorithms) could you use?"
   ]
  },
  {
   "cell_type": "code",
   "execution_count": null,
   "id": "3237f1fc-5adf-44fa-9b0e-bbfc5407bd25",
   "metadata": {},
   "outputs": [],
   "source": []
  },
  {
   "cell_type": "markdown",
   "id": "736d3998-b3ed-4511-9767-641407cf38e3",
   "metadata": {},
   "source": [
    "## How do the models compare when trained on term frequency data alone, instead of TF-IDF values?"
   ]
  },
  {
   "cell_type": "code",
   "execution_count": null,
   "id": "133a4bd0-11db-477e-801d-9b0e88d2aae1",
   "metadata": {},
   "outputs": [],
   "source": []
  }
 ],
 "metadata": {
  "kernelspec": {
   "display_name": "Python 3 (ipykernel)",
   "language": "python",
   "name": "python3"
  },
  "language_info": {
   "codemirror_mode": {
    "name": "ipython",
    "version": 3
   },
   "file_extension": ".py",
   "mimetype": "text/x-python",
   "name": "python",
   "nbconvert_exporter": "python",
   "pygments_lexer": "ipython3",
   "version": "3.9.7"
  }
 },
 "nbformat": 4,
 "nbformat_minor": 5
}
