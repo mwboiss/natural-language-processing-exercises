{
 "cells": [
  {
   "cell_type": "markdown",
   "id": "aef7c659-c92b-4c84-91b8-9bf92c802a8b",
   "metadata": {},
   "source": [
    "# Regex Exercises"
   ]
  },
  {
   "cell_type": "markdown",
   "id": "fa991df3-fbd1-49be-8391-54dd2b268005",
   "metadata": {},
   "source": [
    "### 1) Write a function named is_vowel. It should accept a string as input and use a regular expression to determine if the passed string is a vowel. While not explicity mentioned in the lesson, you can treat the result of re.search as a boolean value that indicates whether or not the regular expression matches the given string."
   ]
  },
  {
   "cell_type": "code",
   "execution_count": null,
   "id": "6ff0f799-449c-4646-bbf5-29f1b5a3f1cb",
   "metadata": {},
   "outputs": [],
   "source": [
    "def is_vowel(input_string):\n",
    "    regexp = r''\n",
    "    return boolean(re.match(regexp, input_string))\n",
    "    "
   ]
  },
  {
   "cell_type": "markdown",
   "id": "560bd398-180d-4b04-bab0-6a15b3b59269",
   "metadata": {},
   "source": [
    "### 2) Write a function named is_valid_username that accepts a string as input. A valid username starts with a lowercase letter, and only consists of lowercase letters, numbers, or the _ character. It should also be no longer than 32 characters. The function should return either True or False depending on whether the passed string is a valid username."
   ]
  },
  {
   "cell_type": "raw",
   "id": "074cd1d4-70fa-4aa8-aceb-5652a8a2ebcb",
   "metadata": {},
   "source": [
    ">>> is_valid_username('aaaaaaaaaaaaaaaaaaaaaaaaaaaaaaaaa')\n",
    "False\n",
    ">>> is_valid_username('codeup')\n",
    "True\n",
    ">>> is_valid_username('Codeup')\n",
    "False\n",
    ">>> is_valid_username('codeup123')\n",
    "True\n",
    ">>> is_valid_username('1codeup')\n",
    "False"
   ]
  },
  {
   "cell_type": "code",
   "execution_count": null,
   "id": "2ddfc431-0c99-4526-8e6f-c80de97c9bb8",
   "metadata": {},
   "outputs": [],
   "source": []
  },
  {
   "cell_type": "markdown",
   "id": "5539a4ee-8d36-47ea-9921-8b678d04a932",
   "metadata": {},
   "source": [
    "### 3) Write a regular expression to capture phone numbers. It should match all of the following:"
   ]
  },
  {
   "cell_type": "raw",
   "id": "7ee2eca8-58af-4c1c-9bf0-4fa7d506e915",
   "metadata": {},
   "source": [
    "(210) 867 5309\n",
    "+1 210.867.5309\n",
    "867-5309\n",
    "210-867-5309"
   ]
  },
  {
   "cell_type": "code",
   "execution_count": null,
   "id": "20cabed7-ab5b-4530-8b07-d1ad6b02c95d",
   "metadata": {},
   "outputs": [],
   "source": []
  },
  {
   "cell_type": "markdown",
   "id": "6603a287-2ff4-4fc9-97f4-4c201dc1fdb3",
   "metadata": {},
   "source": [
    "### 4) Use regular expressions to convert the dates below to the standardized year-month-day format."
   ]
  },
  {
   "cell_type": "raw",
   "id": "c1611e9f-5faa-471e-8260-34c4efe4b9fa",
   "metadata": {},
   "source": [
    "02/04/19\n",
    "02/05/19\n",
    "02/06/19\n",
    "02/07/19\n",
    "02/08/19\n",
    "02/09/19\n",
    "02/10/19"
   ]
  },
  {
   "cell_type": "code",
   "execution_count": null,
   "id": "a661920f-f82a-467e-9610-1152b6611cd4",
   "metadata": {},
   "outputs": [],
   "source": []
  },
  {
   "cell_type": "markdown",
   "id": "46c373e6-3b35-4783-8ace-72c367b26eb4",
   "metadata": {},
   "source": [
    "### 5) Write a regex to extract the various parts of these logfile lines:"
   ]
  },
  {
   "cell_type": "raw",
   "id": "71590051-3e1d-41f5-8b79-94614a695f6d",
   "metadata": {},
   "source": [
    "GET /api/v1/sales?page=86 [16/Apr/2019:193452+0000] HTTP/1.1 {200} 510348 \"python-requests/2.21.0\" 97.105.19.58\n",
    "POST /users_accounts/file-upload [16/Apr/2019:193452+0000] HTTP/1.1 {201} 42 \"User-Agent: Mozilla/5.0 (X11; Fedora; Fedora; Linux x86_64) AppleWebKit/537.36 (KHTML, like Gecko) Chrome/73.0.3683.86 Safari/537.36\" 97.105.19.58\n",
    "GET /api/v1/items?page=3 [16/Apr/2019:193453+0000] HTTP/1.1 {429} 3561 \"python-requests/2.21.0\" 97.105.19.58"
   ]
  },
  {
   "cell_type": "code",
   "execution_count": null,
   "id": "e769051c-91ed-4b21-aa69-41a1153407e5",
   "metadata": {},
   "outputs": [],
   "source": []
  },
  {
   "cell_type": "markdown",
   "id": "f61184c8-373b-41fa-a113-62fad975aba0",
   "metadata": {},
   "source": [
    "## Bonus Exercise"
   ]
  },
  {
   "cell_type": "markdown",
   "id": "a845f22c-a273-45cc-b7b0-1c5493f2ff9b",
   "metadata": {},
   "source": [
    "You can find a list of words on your mac at /usr/share/dict/words. Use this file to answer the following questions:"
   ]
  },
  {
   "cell_type": "code",
   "execution_count": null,
   "id": "8793a7e3-b42c-4026-ab6b-3f5461a0082b",
   "metadata": {},
   "outputs": [],
   "source": []
  },
  {
   "cell_type": "markdown",
   "id": "1230a839-3e92-4e07-9c05-7af6c6505825",
   "metadata": {},
   "source": [
    "- How many words have at least 3 vowels?"
   ]
  },
  {
   "cell_type": "code",
   "execution_count": null,
   "id": "72e8b2f7-1be9-491c-94fe-8793abbda001",
   "metadata": {},
   "outputs": [],
   "source": []
  },
  {
   "cell_type": "markdown",
   "id": "4feb0dad-8363-4b7e-beaa-b275b33e9791",
   "metadata": {},
   "source": [
    "- How many words have at least 3 vowels in a row?"
   ]
  },
  {
   "cell_type": "code",
   "execution_count": null,
   "id": "4f1a807e-cbd4-46cb-801e-e4b22ba5f420",
   "metadata": {},
   "outputs": [],
   "source": []
  },
  {
   "cell_type": "markdown",
   "id": "353ccf1e-631f-4f84-9cc9-2b6332e88ce6",
   "metadata": {},
   "source": [
    "- How many words have at least 4 consonants in a row?"
   ]
  },
  {
   "cell_type": "code",
   "execution_count": null,
   "id": "474f021e-dfb4-4532-8a07-0bdc9b2b03b8",
   "metadata": {},
   "outputs": [],
   "source": []
  },
  {
   "cell_type": "markdown",
   "id": "ff2971e7-9065-429b-870f-0b23f5be95da",
   "metadata": {},
   "source": [
    "- How many words start and end with the same letter?"
   ]
  },
  {
   "cell_type": "code",
   "execution_count": null,
   "id": "17f577b6-6d75-4bcf-b13b-33c584a2b843",
   "metadata": {},
   "outputs": [],
   "source": []
  },
  {
   "cell_type": "markdown",
   "id": "38f3e67a-401d-4b82-ac0f-73f2f4527bb6",
   "metadata": {},
   "source": [
    "- How many words start and end with a vowel?"
   ]
  },
  {
   "cell_type": "code",
   "execution_count": null,
   "id": "fa7440dc-c0bf-4c12-8c73-06e51c7099da",
   "metadata": {},
   "outputs": [],
   "source": []
  },
  {
   "cell_type": "markdown",
   "id": "5d3403c5-a6a7-429a-a690-3e810e1d030b",
   "metadata": {},
   "source": [
    "- How many words contain the same letter 3 times in a row?"
   ]
  },
  {
   "cell_type": "code",
   "execution_count": null,
   "id": "7d76913c-80cb-446f-90e4-951327117224",
   "metadata": {},
   "outputs": [],
   "source": []
  },
  {
   "cell_type": "markdown",
   "id": "8ad71914-9798-47b9-b806-752d3970e94c",
   "metadata": {},
   "source": [
    "- What other interesting patterns in words can you find?"
   ]
  },
  {
   "cell_type": "code",
   "execution_count": null,
   "id": "b38a9b02-6efc-44f3-81b7-cbe055b62563",
   "metadata": {},
   "outputs": [],
   "source": []
  }
 ],
 "metadata": {
  "kernelspec": {
   "display_name": "Python 3 (ipykernel)",
   "language": "python",
   "name": "python3"
  },
  "language_info": {
   "codemirror_mode": {
    "name": "ipython",
    "version": 3
   },
   "file_extension": ".py",
   "mimetype": "text/x-python",
   "name": "python",
   "nbconvert_exporter": "python",
   "pygments_lexer": "ipython3",
   "version": "3.9.7"
  }
 },
 "nbformat": 4,
 "nbformat_minor": 5
}
