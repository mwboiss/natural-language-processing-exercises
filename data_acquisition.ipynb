{
 "cells": [
  {
   "cell_type": "markdown",
   "id": "a2d413b2-9b1b-48c6-8c63-b07218659634",
   "metadata": {
    "tags": []
   },
   "source": [
    "# Data Acquistion Lesson"
   ]
  },
  {
   "cell_type": "code",
   "execution_count": 1,
   "id": "0d7b2266-53ad-4bd2-8fec-e86c38b82dc9",
   "metadata": {},
   "outputs": [],
   "source": [
    "from requests import get\n",
    "from bs4 import BeautifulSoup\n",
    "import pandas as pd\n",
    "import os\n",
    "import acquire"
   ]
  },
  {
   "cell_type": "markdown",
   "id": "aaa79af9-4943-462b-bab3-c195ccc9c89e",
   "metadata": {
    "jp-MarkdownHeadingCollapsed": true,
    "tags": []
   },
   "source": [
    "## People"
   ]
  },
  {
   "cell_type": "code",
   "execution_count": 2,
   "id": "7b05a0fb-3a14-4117-b23e-30768f9e98f0",
   "metadata": {},
   "outputs": [
    {
     "data": {
      "text/plain": [
       "<Response [200]>"
      ]
     },
     "execution_count": 2,
     "metadata": {},
     "output_type": "execute_result"
    }
   ],
   "source": [
    "url = 'https://web-scraping-demo.zgulde.net/people'\n",
    "response = get(url)\n",
    "response"
   ]
  },
  {
   "cell_type": "code",
   "execution_count": 3,
   "id": "0dfc3f48-2143-4a95-a55a-3b9eae44dac2",
   "metadata": {},
   "outputs": [],
   "source": [
    "# print(response.text[775:1750])"
   ]
  },
  {
   "cell_type": "code",
   "execution_count": 4,
   "id": "46459c2b-9120-45b2-b9de-a2aa2f9098f3",
   "metadata": {},
   "outputs": [],
   "source": [
    "# Make a soup variable holding the response content\n",
    "soup = BeautifulSoup(response.content, 'html.parser')"
   ]
  },
  {
   "cell_type": "code",
   "execution_count": 5,
   "id": "5b41bbdc-2fc9-499e-b39e-bad060bd9831",
   "metadata": {},
   "outputs": [],
   "source": [
    "# Use soup to \n",
    "people = soup.select('div.grid.grid-cols-2.gap-x-3')"
   ]
  },
  {
   "cell_type": "code",
   "execution_count": 6,
   "id": "b7500068-0154-4ee1-bb93-214328603f2f",
   "metadata": {},
   "outputs": [],
   "source": [
    "person = people[0]"
   ]
  },
  {
   "cell_type": "code",
   "execution_count": 7,
   "id": "a6958e78-c55a-489a-a9ba-db09400ed4be",
   "metadata": {},
   "outputs": [],
   "source": [
    "#person"
   ]
  },
  {
   "cell_type": "code",
   "execution_count": 8,
   "id": "db8a1556-deb7-418f-9d05-6992d75b9723",
   "metadata": {},
   "outputs": [],
   "source": [
    "#person.find('h2').text"
   ]
  },
  {
   "cell_type": "code",
   "execution_count": 9,
   "id": "30529cb9-d7c7-479a-ba61-16b3f8e69ebc",
   "metadata": {},
   "outputs": [],
   "source": [
    "#person.find_all('p')"
   ]
  },
  {
   "cell_type": "code",
   "execution_count": 10,
   "id": "eb4f6c2b-2da0-4443-8cc5-dac0c79dc292",
   "metadata": {},
   "outputs": [],
   "source": [
    "#[p.text for p in person.find_all('p')]"
   ]
  },
  {
   "cell_type": "code",
   "execution_count": 11,
   "id": "030977eb-7cbd-444a-a8df-2f06fe1245d4",
   "metadata": {},
   "outputs": [],
   "source": [
    "def parse_people(person):\n",
    "    '''\n",
    "    Funciton to scrape individual peoples data from example page\n",
    "    '''\n",
    "    # Create blank dictionary\n",
    "    output = {}\n",
    "    # Assign a name column\n",
    "    output['Name'] = person.find('h2').text\n",
    "    # Assign the rest of the columns\n",
    "    output['quote'], output['email'], output['phone'], output['address'] = [p.text for p in person.find_all('p')]\n",
    "    return output"
   ]
  },
  {
   "cell_type": "code",
   "execution_count": 12,
   "id": "16061a66-9dab-4cf4-8ae3-f0c020a3ad18",
   "metadata": {},
   "outputs": [],
   "source": [
    "#print(parse_people(person))"
   ]
  },
  {
   "cell_type": "code",
   "execution_count": 13,
   "id": "6647e815-476d-437e-a246-88632cb05b4b",
   "metadata": {},
   "outputs": [
    {
     "data": {
      "text/html": [
       "<div>\n",
       "<style scoped>\n",
       "    .dataframe tbody tr th:only-of-type {\n",
       "        vertical-align: middle;\n",
       "    }\n",
       "\n",
       "    .dataframe tbody tr th {\n",
       "        vertical-align: top;\n",
       "    }\n",
       "\n",
       "    .dataframe thead th {\n",
       "        text-align: right;\n",
       "    }\n",
       "</style>\n",
       "<table border=\"1\" class=\"dataframe\">\n",
       "  <thead>\n",
       "    <tr style=\"text-align: right;\">\n",
       "      <th></th>\n",
       "      <th>Name</th>\n",
       "      <th>quote</th>\n",
       "      <th>email</th>\n",
       "      <th>phone</th>\n",
       "      <th>address</th>\n",
       "    </tr>\n",
       "  </thead>\n",
       "  <tbody>\n",
       "    <tr>\n",
       "      <th>0</th>\n",
       "      <td>David Dickerson</td>\n",
       "      <td>\\n            \"Front-line exuding customer loy...</td>\n",
       "      <td>taylornathan@yahoo.com</td>\n",
       "      <td>752-562-0032x2323</td>\n",
       "      <td>\\n                7076 Hudson Motorway \\n     ...</td>\n",
       "    </tr>\n",
       "    <tr>\n",
       "      <th>1</th>\n",
       "      <td>Shannon White</td>\n",
       "      <td>\\n            \"Right-sized motivating superstr...</td>\n",
       "      <td>amandarodriguez@smith-knox.info</td>\n",
       "      <td>+1-379-267-1350x971</td>\n",
       "      <td>\\n                221 Kyle Circle \\n          ...</td>\n",
       "    </tr>\n",
       "    <tr>\n",
       "      <th>2</th>\n",
       "      <td>Victor Smith</td>\n",
       "      <td>\\n            \"Compatible methodical support\"\\...</td>\n",
       "      <td>hfernandez@valencia.com</td>\n",
       "      <td>414.248.9473x175</td>\n",
       "      <td>\\n                1658 Sandra Course Apt. 367 ...</td>\n",
       "    </tr>\n",
       "    <tr>\n",
       "      <th>3</th>\n",
       "      <td>Matthew Meyer</td>\n",
       "      <td>\\n            \"Down-sized disintermediate inte...</td>\n",
       "      <td>milesjennifer@yahoo.com</td>\n",
       "      <td>698.727.2556</td>\n",
       "      <td>\\n                345 Davis Points Suite 033 \\...</td>\n",
       "    </tr>\n",
       "    <tr>\n",
       "      <th>4</th>\n",
       "      <td>Brian Miller</td>\n",
       "      <td>\\n            \"Reduced 5thgeneration toolset\"\\...</td>\n",
       "      <td>christinamoreno@hotmail.com</td>\n",
       "      <td>(531)474-6214x26660</td>\n",
       "      <td>\\n                36164 Katherine Pike Suite 3...</td>\n",
       "    </tr>\n",
       "    <tr>\n",
       "      <th>5</th>\n",
       "      <td>Todd Solis</td>\n",
       "      <td>\\n            \"Compatible well-modulated migra...</td>\n",
       "      <td>russell29@yahoo.com</td>\n",
       "      <td>557.433.8204</td>\n",
       "      <td>\\n                158 Lauren Valleys Apt. 520 ...</td>\n",
       "    </tr>\n",
       "    <tr>\n",
       "      <th>6</th>\n",
       "      <td>Jonathan Solomon</td>\n",
       "      <td>\\n            \"User-centric cohesive strategy\"...</td>\n",
       "      <td>amandacoleman@hotmail.com</td>\n",
       "      <td>542.791.3194</td>\n",
       "      <td>\\n                408 Rose Track Apt. 770 \\n  ...</td>\n",
       "    </tr>\n",
       "    <tr>\n",
       "      <th>7</th>\n",
       "      <td>Shawn Melton</td>\n",
       "      <td>\\n            \"Seamless impactful moratorium\"\\...</td>\n",
       "      <td>jose16@taylor.com</td>\n",
       "      <td>+1-463-464-6826x6919</td>\n",
       "      <td>\\n                79276 Mary Common \\n        ...</td>\n",
       "    </tr>\n",
       "    <tr>\n",
       "      <th>8</th>\n",
       "      <td>Crystal Cruz</td>\n",
       "      <td>\\n            \"Compatible empowering forecast\"...</td>\n",
       "      <td>reneewilkins@manning.com</td>\n",
       "      <td>105-526-9666x54004</td>\n",
       "      <td>\\n                3714 Lynch Hill \\n          ...</td>\n",
       "    </tr>\n",
       "    <tr>\n",
       "      <th>9</th>\n",
       "      <td>Jesse Small</td>\n",
       "      <td>\\n            \"Re-contextualized transitional ...</td>\n",
       "      <td>marcblevins@gmail.com</td>\n",
       "      <td>471-581-9043x057</td>\n",
       "      <td>\\n                4374 Clarke Causeway Apt. 65...</td>\n",
       "    </tr>\n",
       "  </tbody>\n",
       "</table>\n",
       "</div>"
      ],
      "text/plain": [
       "               Name                                              quote  \\\n",
       "0   David Dickerson  \\n            \"Front-line exuding customer loy...   \n",
       "1     Shannon White  \\n            \"Right-sized motivating superstr...   \n",
       "2      Victor Smith  \\n            \"Compatible methodical support\"\\...   \n",
       "3     Matthew Meyer  \\n            \"Down-sized disintermediate inte...   \n",
       "4      Brian Miller  \\n            \"Reduced 5thgeneration toolset\"\\...   \n",
       "5        Todd Solis  \\n            \"Compatible well-modulated migra...   \n",
       "6  Jonathan Solomon  \\n            \"User-centric cohesive strategy\"...   \n",
       "7      Shawn Melton  \\n            \"Seamless impactful moratorium\"\\...   \n",
       "8      Crystal Cruz  \\n            \"Compatible empowering forecast\"...   \n",
       "9       Jesse Small  \\n            \"Re-contextualized transitional ...   \n",
       "\n",
       "                             email                 phone  \\\n",
       "0           taylornathan@yahoo.com     752-562-0032x2323   \n",
       "1  amandarodriguez@smith-knox.info   +1-379-267-1350x971   \n",
       "2          hfernandez@valencia.com      414.248.9473x175   \n",
       "3          milesjennifer@yahoo.com          698.727.2556   \n",
       "4      christinamoreno@hotmail.com   (531)474-6214x26660   \n",
       "5              russell29@yahoo.com          557.433.8204   \n",
       "6        amandacoleman@hotmail.com          542.791.3194   \n",
       "7                jose16@taylor.com  +1-463-464-6826x6919   \n",
       "8         reneewilkins@manning.com    105-526-9666x54004   \n",
       "9            marcblevins@gmail.com      471-581-9043x057   \n",
       "\n",
       "                                             address  \n",
       "0  \\n                7076 Hudson Motorway \\n     ...  \n",
       "1  \\n                221 Kyle Circle \\n          ...  \n",
       "2  \\n                1658 Sandra Course Apt. 367 ...  \n",
       "3  \\n                345 Davis Points Suite 033 \\...  \n",
       "4  \\n                36164 Katherine Pike Suite 3...  \n",
       "5  \\n                158 Lauren Valleys Apt. 520 ...  \n",
       "6  \\n                408 Rose Track Apt. 770 \\n  ...  \n",
       "7  \\n                79276 Mary Common \\n        ...  \n",
       "8  \\n                3714 Lynch Hill \\n          ...  \n",
       "9  \\n                4374 Clarke Causeway Apt. 65...  "
      ]
     },
     "execution_count": 13,
     "metadata": {},
     "output_type": "execute_result"
    }
   ],
   "source": [
    "pd.DataFrame([parse_people(person) for person in people])"
   ]
  },
  {
   "cell_type": "markdown",
   "id": "ff30eee2-d3a3-4ed6-a4f1-199441537185",
   "metadata": {
    "jp-MarkdownHeadingCollapsed": true,
    "tags": []
   },
   "source": [
    "## News"
   ]
  },
  {
   "cell_type": "code",
   "execution_count": 14,
   "id": "a9de5046-4708-4fd2-8923-5795f1b0bea3",
   "metadata": {},
   "outputs": [
    {
     "data": {
      "text/plain": [
       "<Response [200]>"
      ]
     },
     "execution_count": 14,
     "metadata": {},
     "output_type": "execute_result"
    }
   ],
   "source": [
    "url = 'https://web-scraping-demo.zgulde.net/news'\n",
    "response = get(url)\n",
    "response"
   ]
  },
  {
   "cell_type": "code",
   "execution_count": 15,
   "id": "4b180bdd-6b4d-4f03-b2a2-76d391472f0c",
   "metadata": {},
   "outputs": [],
   "source": [
    "#print(response.text[:400])"
   ]
  },
  {
   "cell_type": "code",
   "execution_count": 16,
   "id": "b9ceb629-4b9b-4307-94fa-cdb27b7b2141",
   "metadata": {},
   "outputs": [],
   "source": [
    "# Make a soup variable holding the response content\n",
    "soup = BeautifulSoup(response.text, 'html.parser')"
   ]
  },
  {
   "cell_type": "code",
   "execution_count": 17,
   "id": "573ab724-f0ac-4ccd-888c-8fb00add8e22",
   "metadata": {},
   "outputs": [],
   "source": [
    "articles = soup.select('div.grid.grid-cols-4')"
   ]
  },
  {
   "cell_type": "code",
   "execution_count": 18,
   "id": "26cdfd07-e7ab-48ac-8d9b-aaf0979143dc",
   "metadata": {},
   "outputs": [
    {
     "data": {
      "text/plain": [
       "<p> 1979-04-21 </p>"
      ]
     },
     "execution_count": 18,
     "metadata": {},
     "output_type": "execute_result"
    }
   ],
   "source": [
    "article = articles[0]\n",
    "article.find('p')"
   ]
  },
  {
   "cell_type": "code",
   "execution_count": 19,
   "id": "a0f96446-0670-4f80-b9ba-27f8e321d9c9",
   "metadata": {},
   "outputs": [],
   "source": [
    "def parse_news_article(article):\n",
    "    output = {}\n",
    "    output['headline'] = article.find('h2').text\n",
    "    output['date'], output['byline'], output['description'] = [p.text for p in article.find_all('p')]\n",
    "    return output"
   ]
  },
  {
   "cell_type": "code",
   "execution_count": 20,
   "id": "ec011318-8fce-4911-a865-72ce03faa32f",
   "metadata": {},
   "outputs": [
    {
     "data": {
      "text/html": [
       "<div>\n",
       "<style scoped>\n",
       "    .dataframe tbody tr th:only-of-type {\n",
       "        vertical-align: middle;\n",
       "    }\n",
       "\n",
       "    .dataframe tbody tr th {\n",
       "        vertical-align: top;\n",
       "    }\n",
       "\n",
       "    .dataframe thead th {\n",
       "        text-align: right;\n",
       "    }\n",
       "</style>\n",
       "<table border=\"1\" class=\"dataframe\">\n",
       "  <thead>\n",
       "    <tr style=\"text-align: right;\">\n",
       "      <th></th>\n",
       "      <th>headline</th>\n",
       "      <th>date</th>\n",
       "      <th>byline</th>\n",
       "      <th>description</th>\n",
       "    </tr>\n",
       "  </thead>\n",
       "  <tbody>\n",
       "    <tr>\n",
       "      <th>0</th>\n",
       "      <td>group down cell</td>\n",
       "      <td>1979-04-21</td>\n",
       "      <td>By Thomas James</td>\n",
       "      <td>Add wrong west yourself candidate win just. Ou...</td>\n",
       "    </tr>\n",
       "    <tr>\n",
       "      <th>1</th>\n",
       "      <td>town season everything</td>\n",
       "      <td>1999-03-20</td>\n",
       "      <td>By Veronica Smith DVM</td>\n",
       "      <td>Bad rock coach. Wish little western teach musi...</td>\n",
       "    </tr>\n",
       "    <tr>\n",
       "      <th>2</th>\n",
       "      <td>herself method price</td>\n",
       "      <td>2019-05-04</td>\n",
       "      <td>By Ryan Meyer</td>\n",
       "      <td>Teach write call. Message process two data agr...</td>\n",
       "    </tr>\n",
       "    <tr>\n",
       "      <th>3</th>\n",
       "      <td>blood task station</td>\n",
       "      <td>1976-03-23</td>\n",
       "      <td>By Robert Donovan</td>\n",
       "      <td>Deal thousand second operation. Paper morning ...</td>\n",
       "    </tr>\n",
       "    <tr>\n",
       "      <th>4</th>\n",
       "      <td>inside not raise</td>\n",
       "      <td>1986-06-03</td>\n",
       "      <td>By Molly Reid</td>\n",
       "      <td>Strategy begin car. Recognize almost must mayb...</td>\n",
       "    </tr>\n",
       "    <tr>\n",
       "      <th>5</th>\n",
       "      <td>affect wait writer</td>\n",
       "      <td>2011-06-06</td>\n",
       "      <td>By Margaret Rasmussen</td>\n",
       "      <td>Race my avoid. Indicate notice financial mouth...</td>\n",
       "    </tr>\n",
       "    <tr>\n",
       "      <th>6</th>\n",
       "      <td>open democratic me</td>\n",
       "      <td>1991-10-31</td>\n",
       "      <td>By Tara Mcdaniel</td>\n",
       "      <td>Improve senior morning hotel her Congress buil...</td>\n",
       "    </tr>\n",
       "    <tr>\n",
       "      <th>7</th>\n",
       "      <td>ability ball evidence</td>\n",
       "      <td>1976-12-14</td>\n",
       "      <td>By Paula Elliott</td>\n",
       "      <td>Attorney though later yes. Wide eat hold socie...</td>\n",
       "    </tr>\n",
       "    <tr>\n",
       "      <th>8</th>\n",
       "      <td>direction subject region</td>\n",
       "      <td>1992-10-14</td>\n",
       "      <td>By Steven Patton</td>\n",
       "      <td>Treat focus care end. Perhaps assume and littl...</td>\n",
       "    </tr>\n",
       "    <tr>\n",
       "      <th>9</th>\n",
       "      <td>about pretty court</td>\n",
       "      <td>1981-01-06</td>\n",
       "      <td>By John Brewer</td>\n",
       "      <td>Stop together treatment hear step debate fire....</td>\n",
       "    </tr>\n",
       "    <tr>\n",
       "      <th>10</th>\n",
       "      <td>effort my scene</td>\n",
       "      <td>2009-12-20</td>\n",
       "      <td>By Christine Johnson</td>\n",
       "      <td>Cultural card economic pass much. Six entire a...</td>\n",
       "    </tr>\n",
       "    <tr>\n",
       "      <th>11</th>\n",
       "      <td>camera hundred whole</td>\n",
       "      <td>1972-04-27</td>\n",
       "      <td>By Kristin Ross</td>\n",
       "      <td>Attack example actually amount rate. Not perfo...</td>\n",
       "    </tr>\n",
       "  </tbody>\n",
       "</table>\n",
       "</div>"
      ],
      "text/plain": [
       "                    headline          date                  byline  \\\n",
       "0            group down cell   1979-04-21         By Thomas James    \n",
       "1     town season everything   1999-03-20   By Veronica Smith DVM    \n",
       "2       herself method price   2019-05-04           By Ryan Meyer    \n",
       "3         blood task station   1976-03-23       By Robert Donovan    \n",
       "4           inside not raise   1986-06-03           By Molly Reid    \n",
       "5         affect wait writer   2011-06-06   By Margaret Rasmussen    \n",
       "6         open democratic me   1991-10-31        By Tara Mcdaniel    \n",
       "7      ability ball evidence   1976-12-14        By Paula Elliott    \n",
       "8   direction subject region   1992-10-14        By Steven Patton    \n",
       "9         about pretty court   1981-01-06          By John Brewer    \n",
       "10           effort my scene   2009-12-20    By Christine Johnson    \n",
       "11      camera hundred whole   1972-04-27         By Kristin Ross    \n",
       "\n",
       "                                          description  \n",
       "0   Add wrong west yourself candidate win just. Ou...  \n",
       "1   Bad rock coach. Wish little western teach musi...  \n",
       "2   Teach write call. Message process two data agr...  \n",
       "3   Deal thousand second operation. Paper morning ...  \n",
       "4   Strategy begin car. Recognize almost must mayb...  \n",
       "5   Race my avoid. Indicate notice financial mouth...  \n",
       "6   Improve senior morning hotel her Congress buil...  \n",
       "7   Attorney though later yes. Wide eat hold socie...  \n",
       "8   Treat focus care end. Perhaps assume and littl...  \n",
       "9   Stop together treatment hear step debate fire....  \n",
       "10  Cultural card economic pass much. Six entire a...  \n",
       "11  Attack example actually amount rate. Not perfo...  "
      ]
     },
     "execution_count": 20,
     "metadata": {},
     "output_type": "execute_result"
    }
   ],
   "source": [
    "pd.DataFrame([parse_news_article(article) for article in articles])"
   ]
  },
  {
   "cell_type": "code",
   "execution_count": null,
   "id": "1428bb22-7e6a-4e12-af96-48d8d5ba5663",
   "metadata": {},
   "outputs": [],
   "source": []
  },
  {
   "cell_type": "markdown",
   "id": "a8396a7a-fd7c-4c82-9596-7353abd7d436",
   "metadata": {
    "tags": []
   },
   "source": [
    "# Data Acquisition Exercises"
   ]
  },
  {
   "cell_type": "markdown",
   "id": "07f644f2-c8a9-47ad-9816-7f1fd5afea69",
   "metadata": {
    "jp-MarkdownHeadingCollapsed": true,
    "tags": []
   },
   "source": [
    "## 1) Codeup Blog Articles"
   ]
  },
  {
   "cell_type": "markdown",
   "id": "a1324e1f-3878-4a3d-a9b2-be427416863f",
   "metadata": {},
   "source": [
    "Visit Codeup's Blog and record the urls for at least 5 distinct blog posts. For each post, you should scrape at least the post's title and content."
   ]
  },
  {
   "cell_type": "markdown",
   "id": "b95dfc54-6735-462f-876f-eba98142f293",
   "metadata": {
    "jp-MarkdownHeadingCollapsed": true,
    "tags": []
   },
   "source": [
    "### Article 1"
   ]
  },
  {
   "cell_type": "code",
   "execution_count": 21,
   "id": "64a8b687-2757-4f48-9d8a-bb624797a305",
   "metadata": {},
   "outputs": [
    {
     "data": {
      "text/plain": [
       "('From Bootcamp to Bootcamp | A Military Appreciation Panel',\n",
       " '\\n\\nApr 27, 2022In honor of Military Appreciation Month, join us for a discussion with Codeup Alumni who are also Military Veterans! We will chat about their experiences attending a coding bootcamp, and how their military training set them up for success here at Codeup. Grab your virtual seat now so you can be sent the exclusive Livestream link on the 11th! Thank you to our panelists for participating: Christopher AguirreTaryn McKenzie Desiree McElroy And thanks to Codeup’s Trey Iapachino who is also an Air Force Veteran! FollowFollowFollowFollowFollowWe use cookies on our website to give you the most relevant experience by remembering your preferences and repeat visits. By clicking “Accept”, you consent to the use of ALL the cookies. No worries, we do not sell your personal information..Cookie SettingsAcceptManage consentCloseAlways EnabledFunctionalPerformanceAnalyticsAdvertisementOthers')"
      ]
     },
     "execution_count": 21,
     "metadata": {},
     "output_type": "execute_result"
    }
   ],
   "source": [
    "url = 'https://codeup.com/workshops/from-bootcamp-to-bootcamp-a-military-appreciation-panel/'\n",
    "headers = {'user-agent': 'Innis Data Science Cohort'}\n",
    "response = get(url, headers=headers)\n",
    "\n",
    "# Make a soup variable holding the response content\n",
    "soup = BeautifulSoup(response.content, 'html.parser')\n",
    "\n",
    "title = soup.find('h1').text\n",
    "\n",
    "content = ''\n",
    "for span in soup.select('span'):\n",
    "    content += span.text\n",
    "\n",
    "title, content"
   ]
  },
  {
   "cell_type": "markdown",
   "id": "53082582-b298-4294-8ad4-47ba893ba7f0",
   "metadata": {
    "jp-MarkdownHeadingCollapsed": true,
    "tags": []
   },
   "source": [
    "### Article 2"
   ]
  },
  {
   "cell_type": "code",
   "execution_count": 22,
   "id": "b31922e9-5fce-4776-8b7a-d7958dfd95a1",
   "metadata": {},
   "outputs": [
    {
     "data": {
      "text/plain": [
       "('Our Acquisition of the Rackspace Cloud Academy: One Year Later',\n",
       " '\\n\\nApr 14, 2022Just about a year ago on April 16th, 2021 we announced our acquisition of the Rackspace Cloud Academy! For a short time after the acquisition, it was rebranded as the Codeup Cloud Academy and is now a full-time part of the Codeup brand. You can read our blog when we announced this last year by clicking here.\\xa0To look back at the past year, we checked in with Marcus Benavidez and Mike Jaime who stayed with Codeup after previously working with the Rackspace Cloud Academy. We also checked in with Dimitri Antoniou who is our VP of Strategic Initiatives and helped with the merger of the two companies. We asked them questions about the current campus, and also what the future may look like at Codeup’s new “Castle” campus.\\xa0 Its history! Rackspace and former Rackers were instrumental in jumpstarting the tech industry here in San Antonio. This includes Geekdom, where Codeup was established. The Castle is where Rackspace ultimately decided to call its international headquarters.\\xa0 The campus is designed with the student experience in mind. This includes the large classrooms and facilities to match. It’s a piece of San Antonio history as it’s on the Rackspace Campus.\\xa0 The Castle has been a staple of tech in San Antonio for years. Train new tech employees in high-growth careers like Cloud Administration from the Castle campus is an exciting extension of the legacy of Rackspace’s impact on San Antonio. A way to implement a version of “Rookie O” across staff and cohorts.\\xa0I would love to see some kind of Alumni wall or recognition for Alumni past, present, and future.\\xa0It will be awesome once Web Development and Data Science programs are approved on this campus. I am looking forward to the cross-pollination of technologies, students, and staff.\\xa0 Maybe we will have our own mall to ourselves one day: If you’re looking to get your foot in the door, I think it’s a no-brainer as you will be learning AWS administration, which is the most in-demand cloud computing platform. Also, the decision to focus on hands-on experience and know-how as opposed to certification exam memorization will better prepare students with practical knowledge. Do it. The time to positively impact your life and to create change is now. Skills in networking, Linux, and AWS can put you on a path to so many different careers, including cybersecurity and cloud architecture. These are some of the highest growth and most exciting pathways in technology. With experienced experts like Jeremy Price and Kris Connolly to teach you, there’s no better way to open doors in IT.: Cybersecurity again! Also Web Development and Data Science as well.\\xa0: We should continue to build and offer classes that align with the market [i.e. what skills are in high demand].\\xa0 AWS is one of 3 major cloud providers, along with Microsoft Azure and Google Cloud. I think it won’t be long until we’re training a variety of cloud careers across all major players. Air Hockey and Shuffle Board Vintage Arcade games would be awesome!\\xa0 There’s so much open space – I’d love to run a nerf gun or dodgeball tournament!Tinkerers, computer enthusiasts, mechanics, or really anyone who likes to fix and build things will love our brand new Cloud Administration program. The foundation of skills you will learn could land you a job in Cloud Architecture, Cybersecurity, DevOps, & Solutions Engineering. You will learn new skills in just 15 weeks, and won’t break the bank like a traditional 4-year college degree. Our next class starts on 5/31.\\xa0Our Castle campus includes the following perks:\\xa0Hands-on labs to get real-time hands-on experienceLive classroom instructionPing pong and foosball tables\\xa0Lots of comfortable seating options to break out and study or just relax\\xa0A large cafeteria area\\xa0Free Coffee, Tea, Water, and Soda\\xa0We also have a vending machine for additional drinks and snacks\\xa0Free covered parking\\xa0Located at Rackspace’s headquarters\\xa0If you are looking to change your career, there is no better time than now! Classes for this new program will fill up fast so don’t delay!FollowFollowFollowFollowFollowWe use cookies on our website to give you the most relevant experience by remembering your preferences and repeat visits. By clicking “Accept”, you consent to the use of ALL the cookies. No worries, we do not sell your personal information..Cookie SettingsAcceptManage consentCloseAlways EnabledFunctionalPerformanceAnalyticsAdvertisementOthers')"
      ]
     },
     "execution_count": 22,
     "metadata": {},
     "output_type": "execute_result"
    }
   ],
   "source": [
    "url = 'https://codeup.com/featured/our-acquisition-of-the-rackspace-cloud-academy-one-year-later/'\n",
    "headers = {'user-agent': 'Innis Data Science Cohort'}\n",
    "response = get(url, headers=headers)\n",
    "\n",
    "# Make a soup variable holding the response content\n",
    "soup = BeautifulSoup(response.content, 'html.parser')\n",
    "\n",
    "title = soup.find('h1').text\n",
    "\n",
    "content = ''\n",
    "for span in soup.select('span'):\n",
    "    content += span.text\n",
    "\n",
    "title, content"
   ]
  },
  {
   "cell_type": "markdown",
   "id": "690b8384-265b-4178-bc27-195c3603ca7d",
   "metadata": {
    "jp-MarkdownHeadingCollapsed": true,
    "tags": []
   },
   "source": [
    "### Article 3"
   ]
  },
  {
   "cell_type": "code",
   "execution_count": 23,
   "id": "7d4cd41a-6486-47ea-b82d-880f486cdbdc",
   "metadata": {},
   "outputs": [
    {
     "data": {
      "text/plain": [
       "('Learn to Code: HTML & CSS on 4/30',\n",
       " '\\n\\nApr 1, 2022HTML & CSS are the design building blocks of all the websites you interact with on a daily basis. Attend this workshop to understand how it works and get some hands-on experience with coding! No prior experience is necessary!Materials to bring:A laptop – any kind! It just must be able to connect to WiFiYour smiling face! Note: Must be 17+ years old to participate and live in the United StatesFollowFollowFollowFollowFollowWe use cookies on our website to give you the most relevant experience by remembering your preferences and repeat visits. By clicking “Accept”, you consent to the use of ALL the cookies. No worries, we do not sell your personal information..Cookie SettingsAcceptManage consentCloseAlways EnabledFunctionalPerformanceAnalyticsAdvertisementOthers')"
      ]
     },
     "execution_count": 23,
     "metadata": {},
     "output_type": "execute_result"
    }
   ],
   "source": [
    "url = 'https://codeup.com/workshops/virtual/learn-to-code-html-css-on-4-30/'\n",
    "headers = {'user-agent': 'Innis Data Science Cohort'}\n",
    "response = get(url, headers=headers)\n",
    "\n",
    "# Make a soup variable holding the response content\n",
    "soup = BeautifulSoup(response.content, 'html.parser')\n",
    "\n",
    "title = soup.find('h1').text\n",
    "\n",
    "content = ''\n",
    "for span in soup.select('span'):\n",
    "    content += span.text\n",
    "\n",
    "title, content"
   ]
  },
  {
   "cell_type": "markdown",
   "id": "e941de13-326c-49dc-a10a-eb3ad35c066e",
   "metadata": {
    "jp-MarkdownHeadingCollapsed": true,
    "tags": []
   },
   "source": [
    "### Article 4"
   ]
  },
  {
   "cell_type": "code",
   "execution_count": 24,
   "id": "390a05e5-fc11-4cba-80ad-832f96c78b1c",
   "metadata": {},
   "outputs": [
    {
     "data": {
      "text/plain": [
       "('Learn to Code: Python Workshop on 4/23',\n",
       " '\\n\\nMar 31, 2022According to LinkedIn, the “#1 Most Promising Job” is data science! But we here at Codeup understand changing careers can be a daunting idea. That’s where our free Learn to Code workshops come in!\\xa0What is data science? What is Python? If you’re curious, join for free to learn the basics of Python from our very own instructors and get an introduction to the field of Data Science. This is all done from the comfort of home.Save your seat quickly – our Python workshops are always in high demand! What you need:1. Laptop (does not matter what kind). You need to be able to access WiFi and run an internet browser.2. To RSVP!FollowFollowFollowFollowFollowWe use cookies on our website to give you the most relevant experience by remembering your preferences and repeat visits. By clicking “Accept”, you consent to the use of ALL the cookies. No worries, we do not sell your personal information..Cookie SettingsAcceptManage consentCloseAlways EnabledFunctionalPerformanceAnalyticsAdvertisementOthers')"
      ]
     },
     "execution_count": 24,
     "metadata": {},
     "output_type": "execute_result"
    }
   ],
   "source": [
    "url = 'https://codeup.com/workshops/virtual/learn-to-code-python-workshop-on-4-16/'\n",
    "headers = {'user-agent': 'Innis Data Science Cohort'}\n",
    "response = get(url, headers=headers)\n",
    "\n",
    "# Make a soup variable holding the response content\n",
    "soup = BeautifulSoup(response.content, 'html.parser')\n",
    "\n",
    "title = soup.find('h1').text\n",
    "\n",
    "content = ''\n",
    "for span in soup.select('span'):\n",
    "    content += span.text\n",
    "\n",
    "title, content"
   ]
  },
  {
   "cell_type": "markdown",
   "id": "59dad5f5-89a6-417f-a54c-7a795e2fe771",
   "metadata": {
    "jp-MarkdownHeadingCollapsed": true,
    "tags": []
   },
   "source": [
    "### Article 5"
   ]
  },
  {
   "cell_type": "code",
   "execution_count": 25,
   "id": "66891942-e187-4c5d-bab5-3b14237faaba",
   "metadata": {},
   "outputs": [
    {
     "data": {
      "text/plain": [
       "('VET TEC Funding Now Available For Dallas Veterans',\n",
       " '\\n\\nJan 7, 2022Details about the event and the link to grab your free tickets can be found here.\\xa0Are you eligible to use VET TEC funding?To qualify for VET TEC, you must:When is VET TEC funding available?VET TEC renews its funding on an annual cycle in October.\\xa0IMPORTANT:\\xa0Funds run out very quickly each year. If you’re interested in using VET TEC, we recommend applying immediately and going through our admissions process as quickly as possible. That way, you’ll be accepted early and we can certify your enrollment as soon as VET TEC funding becomes available from the VA.FollowFollowFollowFollowFollowWe use cookies on our website to give you the most relevant experience by remembering your preferences and repeat visits. By clicking “Accept”, you consent to the use of ALL the cookies. No worries, we do not sell your personal information..Cookie SettingsAcceptManage consentCloseAlways EnabledFunctionalPerformanceAnalyticsAdvertisementOthers')"
      ]
     },
     "execution_count": 25,
     "metadata": {},
     "output_type": "execute_result"
    }
   ],
   "source": [
    "url = 'https://codeup.com/codeup-news/vet-tec-funding-dallas/'\n",
    "headers = {'user-agent': 'Innis Data Science Cohort'}\n",
    "response = get(url, headers=headers)\n",
    "\n",
    "# Make a soup variable holding the response content\n",
    "soup = BeautifulSoup(response.content, 'html.parser')\n",
    "\n",
    "title = soup.find('h1').text\n",
    "\n",
    "content = ''\n",
    "for span in soup.select('span'):\n",
    "    content += span.text\n",
    "\n",
    "title, content"
   ]
  },
  {
   "cell_type": "markdown",
   "id": "ec685c91-5553-4fa3-bcdc-7c5c89865def",
   "metadata": {
    "jp-MarkdownHeadingCollapsed": true,
    "tags": []
   },
   "source": [
    "### Encapsulate your work in a function named get_blog_articles that will return a list of dictionaries, with each dictionary representing one article. The shape of each dictionary should look like this:"
   ]
  },
  {
   "cell_type": "markdown",
   "id": "d868d175-d438-40a0-b767-d496a35265e5",
   "metadata": {},
   "source": [
    "Plus any additional properties you think might be helpful."
   ]
  },
  {
   "cell_type": "markdown",
   "id": "90a1e4da-a74f-40a3-a37f-d9b60db3750a",
   "metadata": {
    "tags": []
   },
   "source": [
    "Bonus: Scrape the text of all the articles linked on codeup's blog page."
   ]
  },
  {
   "cell_type": "raw",
   "id": "c3091269-2ade-4cc3-a100-a4d64beea90b",
   "metadata": {},
   "source": [
    "{\n",
    "    'title': 'the title of the article',\n",
    "    'content': 'the full text content of the article'\n",
    "}"
   ]
  },
  {
   "cell_type": "code",
   "execution_count": 26,
   "id": "83381210-137c-4d70-8193-e1f76fa8c3cb",
   "metadata": {},
   "outputs": [],
   "source": [
    "def get_blog_urls():  \n",
    "    \n",
    "    url = 'https://codeup.com/blog/'\n",
    "    headers = {'user-agent': 'Innis Data Science Cohort'}\n",
    "    response = get(url, headers=headers)\n",
    "    soup = BeautifulSoup(response.content, 'html.parser')\n",
    "    \n",
    "    urls = [a.attrs['href'] for a in soup.select('a.more-link')]\n",
    "    \n",
    "    return urls"
   ]
  },
  {
   "cell_type": "code",
   "execution_count": 30,
   "id": "17ff7623-2e2a-4a21-8d1b-6ea7bdacd356",
   "metadata": {},
   "outputs": [],
   "source": [
    "def get_article_info(url):\n",
    "\n",
    "    headers = {'user-agent': 'Innis Data Science Cohort'}\n",
    "    response = get(url, headers=headers)\n",
    "    soup = BeautifulSoup(response.content, 'html.parser')\n",
    "\n",
    "    title = soup.select_one('h1.entry-title').text\n",
    "    published = soup.select_one('.published').text\n",
    "    content = soup.select_one('.entry-content').text.strip()\n",
    "\n",
    "    return {'Title': title, 'Published': published, 'Content': content}"
   ]
  },
  {
   "cell_type": "code",
   "execution_count": 31,
   "id": "0cd8ed67-af08-4d0d-a7f4-5e1a7b0aa9c8",
   "metadata": {},
   "outputs": [],
   "source": [
    "def get_blog_articles():\n",
    "    urls = get_blog_urls()\n",
    "    articles = []\n",
    "    \n",
    "    for url in urls:\n",
    "        articles.append(get_article_info(url))\n",
    "    df = pd.DataFrame(articles)\n",
    "    return df"
   ]
  },
  {
   "cell_type": "code",
   "execution_count": 32,
   "id": "57d3fb9c-1f03-4167-928e-36f7ac69ac45",
   "metadata": {},
   "outputs": [],
   "source": [
    "df = get_blog_articles()"
   ]
  },
  {
   "cell_type": "code",
   "execution_count": 33,
   "id": "dc6a298f-7073-46ca-a5a4-41b77eb778ea",
   "metadata": {},
   "outputs": [
    {
     "data": {
      "text/html": [
       "<div>\n",
       "<style scoped>\n",
       "    .dataframe tbody tr th:only-of-type {\n",
       "        vertical-align: middle;\n",
       "    }\n",
       "\n",
       "    .dataframe tbody tr th {\n",
       "        vertical-align: top;\n",
       "    }\n",
       "\n",
       "    .dataframe thead th {\n",
       "        text-align: right;\n",
       "    }\n",
       "</style>\n",
       "<table border=\"1\" class=\"dataframe\">\n",
       "  <thead>\n",
       "    <tr style=\"text-align: right;\">\n",
       "      <th></th>\n",
       "      <th>Title</th>\n",
       "      <th>Published</th>\n",
       "      <th>Content</th>\n",
       "    </tr>\n",
       "  </thead>\n",
       "  <tbody>\n",
       "    <tr>\n",
       "      <th>0</th>\n",
       "      <td>Learn to Code: Python Workshop on 4/23</td>\n",
       "      <td>Mar 31, 2022</td>\n",
       "      <td>According to LinkedIn, the “#1 Most Promising ...</td>\n",
       "    </tr>\n",
       "    <tr>\n",
       "      <th>1</th>\n",
       "      <td>Coming Soon: Cloud Administration</td>\n",
       "      <td>Mar 17, 2022</td>\n",
       "      <td>We’re launching a new program out of San Anton...</td>\n",
       "    </tr>\n",
       "    <tr>\n",
       "      <th>2</th>\n",
       "      <td>5 Books Every Woman In Tech Should Read</td>\n",
       "      <td>Mar 8, 2022</td>\n",
       "      <td>On this International Women’s Day 2022 we want...</td>\n",
       "    </tr>\n",
       "    <tr>\n",
       "      <th>3</th>\n",
       "      <td>Codeup Start Dates for March 2022</td>\n",
       "      <td>Jan 26, 2022</td>\n",
       "      <td>As we approach the end of January we wanted to...</td>\n",
       "    </tr>\n",
       "    <tr>\n",
       "      <th>4</th>\n",
       "      <td>VET TEC Funding Now Available For Dallas Veterans</td>\n",
       "      <td>Jan 7, 2022</td>\n",
       "      <td>We are so happy to announce that VET TEC benef...</td>\n",
       "    </tr>\n",
       "    <tr>\n",
       "      <th>5</th>\n",
       "      <td>Dallas Campus Re-opens With New Grant Partner</td>\n",
       "      <td>Dec 30, 2021</td>\n",
       "      <td>We are happy to announce that our Dallas campu...</td>\n",
       "    </tr>\n",
       "    <tr>\n",
       "      <th>6</th>\n",
       "      <td>Codeup’s Placement Team Continues Setting Records</td>\n",
       "      <td>Nov 19, 2021</td>\n",
       "      <td>Our Placement Team is simply defined as a grou...</td>\n",
       "    </tr>\n",
       "    <tr>\n",
       "      <th>7</th>\n",
       "      <td>IT Certifications 101: Why They Matter, and Wh...</td>\n",
       "      <td>Nov 18, 2021</td>\n",
       "      <td>AWS, Google, Azure, Red Hat, CompTIA…these are...</td>\n",
       "    </tr>\n",
       "    <tr>\n",
       "      <th>8</th>\n",
       "      <td>A rise in cyber attacks means opportunities fo...</td>\n",
       "      <td>Nov 17, 2021</td>\n",
       "      <td>In the last few months, the US has experienced...</td>\n",
       "    </tr>\n",
       "    <tr>\n",
       "      <th>9</th>\n",
       "      <td>Use your GI Bill® benefits to Land a Job in Tech</td>\n",
       "      <td>Nov 4, 2021</td>\n",
       "      <td>As the end of military service gets closer, ma...</td>\n",
       "    </tr>\n",
       "    <tr>\n",
       "      <th>10</th>\n",
       "      <td>Which program is right for me: Cyber Security ...</td>\n",
       "      <td>Oct 28, 2021</td>\n",
       "      <td>What IT Career should I choose?\\nIf you’re thi...</td>\n",
       "    </tr>\n",
       "    <tr>\n",
       "      <th>11</th>\n",
       "      <td>What the Heck is System Engineering?</td>\n",
       "      <td>Oct 21, 2021</td>\n",
       "      <td>Codeup offers a 13-week training program: Syst...</td>\n",
       "    </tr>\n",
       "    <tr>\n",
       "      <th>12</th>\n",
       "      <td>From Speech Pathology to Business Intelligence</td>\n",
       "      <td>Oct 18, 2021</td>\n",
       "      <td>By: Alicia Gonzalez\\nBefore Codeup, I was a ho...</td>\n",
       "    </tr>\n",
       "    <tr>\n",
       "      <th>13</th>\n",
       "      <td>Boris – Behind the Billboards</td>\n",
       "      <td>Oct 3, 2021</td>\n",
       "      <td></td>\n",
       "    </tr>\n",
       "    <tr>\n",
       "      <th>14</th>\n",
       "      <td>Is Codeup the Best Bootcamp in San Antonio…or ...</td>\n",
       "      <td>Sep 16, 2021</td>\n",
       "      <td>Looking for the best data science bootcamp in ...</td>\n",
       "    </tr>\n",
       "  </tbody>\n",
       "</table>\n",
       "</div>"
      ],
      "text/plain": [
       "                                                Title     Published  \\\n",
       "0              Learn to Code: Python Workshop on 4/23  Mar 31, 2022   \n",
       "1                   Coming Soon: Cloud Administration  Mar 17, 2022   \n",
       "2             5 Books Every Woman In Tech Should Read   Mar 8, 2022   \n",
       "3                   Codeup Start Dates for March 2022  Jan 26, 2022   \n",
       "4   VET TEC Funding Now Available For Dallas Veterans   Jan 7, 2022   \n",
       "5       Dallas Campus Re-opens With New Grant Partner  Dec 30, 2021   \n",
       "6   Codeup’s Placement Team Continues Setting Records  Nov 19, 2021   \n",
       "7   IT Certifications 101: Why They Matter, and Wh...  Nov 18, 2021   \n",
       "8   A rise in cyber attacks means opportunities fo...  Nov 17, 2021   \n",
       "9    Use your GI Bill® benefits to Land a Job in Tech   Nov 4, 2021   \n",
       "10  Which program is right for me: Cyber Security ...  Oct 28, 2021   \n",
       "11               What the Heck is System Engineering?  Oct 21, 2021   \n",
       "12     From Speech Pathology to Business Intelligence  Oct 18, 2021   \n",
       "13                      Boris – Behind the Billboards   Oct 3, 2021   \n",
       "14  Is Codeup the Best Bootcamp in San Antonio…or ...  Sep 16, 2021   \n",
       "\n",
       "                                              Content  \n",
       "0   According to LinkedIn, the “#1 Most Promising ...  \n",
       "1   We’re launching a new program out of San Anton...  \n",
       "2   On this International Women’s Day 2022 we want...  \n",
       "3   As we approach the end of January we wanted to...  \n",
       "4   We are so happy to announce that VET TEC benef...  \n",
       "5   We are happy to announce that our Dallas campu...  \n",
       "6   Our Placement Team is simply defined as a grou...  \n",
       "7   AWS, Google, Azure, Red Hat, CompTIA…these are...  \n",
       "8   In the last few months, the US has experienced...  \n",
       "9   As the end of military service gets closer, ma...  \n",
       "10  What IT Career should I choose?\\nIf you’re thi...  \n",
       "11  Codeup offers a 13-week training program: Syst...  \n",
       "12  By: Alicia Gonzalez\\nBefore Codeup, I was a ho...  \n",
       "13                                                     \n",
       "14  Looking for the best data science bootcamp in ...  "
      ]
     },
     "execution_count": 33,
     "metadata": {},
     "output_type": "execute_result"
    }
   ],
   "source": [
    "df"
   ]
  },
  {
   "cell_type": "code",
   "execution_count": 34,
   "id": "57cd28d8-891e-4dcb-b00b-1a827f2f392e",
   "metadata": {},
   "outputs": [],
   "source": [
    "df = acquire.get_blog_articles()"
   ]
  },
  {
   "cell_type": "code",
   "execution_count": 35,
   "id": "c8caa8b1-1fca-4025-8884-476277fae112",
   "metadata": {},
   "outputs": [
    {
     "data": {
      "text/html": [
       "<div>\n",
       "<style scoped>\n",
       "    .dataframe tbody tr th:only-of-type {\n",
       "        vertical-align: middle;\n",
       "    }\n",
       "\n",
       "    .dataframe tbody tr th {\n",
       "        vertical-align: top;\n",
       "    }\n",
       "\n",
       "    .dataframe thead th {\n",
       "        text-align: right;\n",
       "    }\n",
       "</style>\n",
       "<table border=\"1\" class=\"dataframe\">\n",
       "  <thead>\n",
       "    <tr style=\"text-align: right;\">\n",
       "      <th></th>\n",
       "      <th>Title</th>\n",
       "      <th>Published</th>\n",
       "      <th>Content</th>\n",
       "    </tr>\n",
       "  </thead>\n",
       "  <tbody>\n",
       "    <tr>\n",
       "      <th>0</th>\n",
       "      <td>Learn to Code: Python Workshop on 4/23</td>\n",
       "      <td>Mar 31, 2022</td>\n",
       "      <td>According to LinkedIn, the “#1 Most Promising ...</td>\n",
       "    </tr>\n",
       "    <tr>\n",
       "      <th>1</th>\n",
       "      <td>Coming Soon: Cloud Administration</td>\n",
       "      <td>Mar 17, 2022</td>\n",
       "      <td>We’re launching a new program out of San Anton...</td>\n",
       "    </tr>\n",
       "    <tr>\n",
       "      <th>2</th>\n",
       "      <td>5 Books Every Woman In Tech Should Read</td>\n",
       "      <td>Mar 8, 2022</td>\n",
       "      <td>On this International Women’s Day 2022 we want...</td>\n",
       "    </tr>\n",
       "    <tr>\n",
       "      <th>3</th>\n",
       "      <td>Codeup Start Dates for March 2022</td>\n",
       "      <td>Jan 26, 2022</td>\n",
       "      <td>As we approach the end of January we wanted to...</td>\n",
       "    </tr>\n",
       "    <tr>\n",
       "      <th>4</th>\n",
       "      <td>VET TEC Funding Now Available For Dallas Veterans</td>\n",
       "      <td>Jan 7, 2022</td>\n",
       "      <td>We are so happy to announce that VET TEC benef...</td>\n",
       "    </tr>\n",
       "  </tbody>\n",
       "</table>\n",
       "</div>"
      ],
      "text/plain": [
       "                                               Title     Published  \\\n",
       "0             Learn to Code: Python Workshop on 4/23  Mar 31, 2022   \n",
       "1                  Coming Soon: Cloud Administration  Mar 17, 2022   \n",
       "2            5 Books Every Woman In Tech Should Read   Mar 8, 2022   \n",
       "3                  Codeup Start Dates for March 2022  Jan 26, 2022   \n",
       "4  VET TEC Funding Now Available For Dallas Veterans   Jan 7, 2022   \n",
       "\n",
       "                                             Content  \n",
       "0  According to LinkedIn, the “#1 Most Promising ...  \n",
       "1  We’re launching a new program out of San Anton...  \n",
       "2  On this International Women’s Day 2022 we want...  \n",
       "3  As we approach the end of January we wanted to...  \n",
       "4  We are so happy to announce that VET TEC benef...  "
      ]
     },
     "execution_count": 35,
     "metadata": {},
     "output_type": "execute_result"
    }
   ],
   "source": [
    "df.head()"
   ]
  },
  {
   "cell_type": "markdown",
   "id": "bcbd8a88-949c-4dd5-8bdf-f19d7f0b69bc",
   "metadata": {
    "tags": []
   },
   "source": [
    "## 2) News Articles"
   ]
  },
  {
   "cell_type": "markdown",
   "id": "1ea3d723-971a-4357-8801-bb5b48ec0c50",
   "metadata": {},
   "source": [
    "We will now be scraping text data from inshorts, a website that provides a brief overview of many different topics.\n",
    "\n",
    "Write a function that scrapes the news articles for the following topics:\n",
    "\n",
    "- Business\n",
    "- Sports\n",
    "- Technology\n",
    "- Entertainment\n",
    "\n",
    "The end product of this should be a function named get_news_articles that returns a list of dictionaries, where each dictionary has this shape:"
   ]
  },
  {
   "cell_type": "markdown",
   "id": "5657e234-9e44-44a7-9042-742f85ce0138",
   "metadata": {},
   "source": [
    "Hints:\n",
    "\n",
    "- Start by inspecting the website in your browser. Figure out which elements will be useful.\n",
    "- Start by creating a function that handles a single article and produces a dictionary like the one above.\n",
    "- Next create a function that will find all the articles on a single page and call the function you created in the last step for every article on the page.\n",
    "- Now create a function that will use the previous two functions to scrape the articles from all the pages that you need, and do any additional processing that needs to be done."
   ]
  },
  {
   "cell_type": "raw",
   "id": "9bd13eb0-b8ba-4604-a3c2-388a3b7730ca",
   "metadata": {},
   "source": [
    "{\n",
    "    'title': 'The article title',\n",
    "    'content': 'The article content',\n",
    "    'category': 'business' # for example\n",
    "}"
   ]
  },
  {
   "cell_type": "code",
   "execution_count": null,
   "id": "4c1deafe-ea30-4b23-8bb2-6b78c2d9b08d",
   "metadata": {},
   "outputs": [],
   "source": []
  },
  {
   "cell_type": "code",
   "execution_count": null,
   "id": "4e55ba1c-f2af-447f-ab2a-ad27ae26f572",
   "metadata": {},
   "outputs": [],
   "source": []
  },
  {
   "cell_type": "code",
   "execution_count": null,
   "id": "105b351b-ea8e-4b86-b33e-710b46ab1e87",
   "metadata": {},
   "outputs": [],
   "source": []
  },
  {
   "cell_type": "code",
   "execution_count": null,
   "id": "563d6e62-708b-4062-aadb-77f094e47c60",
   "metadata": {},
   "outputs": [],
   "source": []
  },
  {
   "cell_type": "code",
   "execution_count": null,
   "id": "cb1051d7-ee8a-4156-8c73-306d558b4540",
   "metadata": {},
   "outputs": [],
   "source": []
  },
  {
   "cell_type": "code",
   "execution_count": null,
   "id": "97269606-de26-49f5-9b18-f15081535437",
   "metadata": {},
   "outputs": [],
   "source": []
  },
  {
   "cell_type": "code",
   "execution_count": null,
   "id": "0f0014c9-cfb7-4c61-998f-67967437c77f",
   "metadata": {},
   "outputs": [],
   "source": []
  },
  {
   "cell_type": "code",
   "execution_count": null,
   "id": "19a1ae7d-8533-4f3b-a4ce-27f370ea2394",
   "metadata": {},
   "outputs": [],
   "source": []
  },
  {
   "cell_type": "code",
   "execution_count": null,
   "id": "f7e10dfb-dd41-45b7-aa62-dbd2fcb35d98",
   "metadata": {},
   "outputs": [],
   "source": []
  },
  {
   "cell_type": "code",
   "execution_count": null,
   "id": "9a3b678a-c460-4b32-8450-ffc5c17ed07a",
   "metadata": {},
   "outputs": [],
   "source": []
  },
  {
   "cell_type": "markdown",
   "id": "dd2cb6a4-43f2-4ab4-969f-24eb932f15d7",
   "metadata": {
    "tags": []
   },
   "source": [
    "## Bonus: cache the data"
   ]
  },
  {
   "cell_type": "markdown",
   "id": "ac278019-8229-41b5-a119-2743bc9db39a",
   "metadata": {},
   "source": [
    "- Write your code such that the acquired data is saved locally in some form or fashion. \n",
    "- Your functions that retrieve the data should prefer to read the local data instead of having to make all the requests everytime the function is called. \n",
    "- Include a boolean flag in the functions to allow the data to be acquired \"fresh\" from the actual sources (re-writing your local cache)."
   ]
  },
  {
   "cell_type": "code",
   "execution_count": null,
   "id": "e5e39c8a-d6fb-47fc-bc75-44a5ae6f2142",
   "metadata": {},
   "outputs": [],
   "source": []
  }
 ],
 "metadata": {
  "kernelspec": {
   "display_name": "Python 3 (ipykernel)",
   "language": "python",
   "name": "python3"
  },
  "language_info": {
   "codemirror_mode": {
    "name": "ipython",
    "version": 3
   },
   "file_extension": ".py",
   "mimetype": "text/x-python",
   "name": "python",
   "nbconvert_exporter": "python",
   "pygments_lexer": "ipython3",
   "version": "3.9.7"
  }
 },
 "nbformat": 4,
 "nbformat_minor": 5
}
